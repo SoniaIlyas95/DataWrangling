{
 "cells": [
  {
   "cell_type": "markdown",
   "metadata": {},
   "source": [
    "# Data Wrangling"
   ]
  },
  {
   "cell_type": "markdown",
   "metadata": {},
   "source": [
    "## Annual prices exchangee range per USD"
   ]
  },
  {
   "cell_type": "code",
   "execution_count": 27,
   "metadata": {},
   "outputs": [],
   "source": [
    "# import libraries\n",
    "import numpy as np\n",
    "import pandas as pd\n",
    "import matplotlib.pyplot as plt\n",
    "import seaborn as sns"
   ]
  },
  {
   "cell_type": "code",
   "execution_count": 28,
   "metadata": {},
   "outputs": [],
   "source": [
    "# uploaod or read data set\n",
    "prices=pd.read_csv(\"prices_exchange_rate_annual.csv\")"
   ]
  },
  {
   "cell_type": "code",
   "execution_count": 29,
   "metadata": {},
   "outputs": [],
   "source": [
    "pr=prices\n",
    "pr1=prices"
   ]
  },
  {
   "cell_type": "code",
   "execution_count": 30,
   "metadata": {},
   "outputs": [
    {
     "data": {
      "text/html": [
       "<div>\n",
       "<style scoped>\n",
       "    .dataframe tbody tr th:only-of-type {\n",
       "        vertical-align: middle;\n",
       "    }\n",
       "\n",
       "    .dataframe tbody tr th {\n",
       "        vertical-align: top;\n",
       "    }\n",
       "\n",
       "    .dataframe thead th {\n",
       "        text-align: right;\n",
       "    }\n",
       "</style>\n",
       "<table border=\"1\" class=\"dataframe\">\n",
       "  <thead>\n",
       "    <tr style=\"text-align: right;\">\n",
       "      <th></th>\n",
       "      <th>Domain Code</th>\n",
       "      <th>Domain</th>\n",
       "      <th>Area Code</th>\n",
       "      <th>Area</th>\n",
       "      <th>ISO Currency Code</th>\n",
       "      <th>Currency</th>\n",
       "      <th>Item Code</th>\n",
       "      <th>Item</th>\n",
       "      <th>Year Code</th>\n",
       "      <th>Year</th>\n",
       "      <th>Unit</th>\n",
       "      <th>Value</th>\n",
       "      <th>Flag</th>\n",
       "      <th>Flag Description</th>\n",
       "      <th>Note</th>\n",
       "    </tr>\n",
       "  </thead>\n",
       "  <tbody>\n",
       "    <tr>\n",
       "      <th>0</th>\n",
       "      <td>PE</td>\n",
       "      <td>Exchange rates - Annual</td>\n",
       "      <td>100</td>\n",
       "      <td>India</td>\n",
       "      <td>INR</td>\n",
       "      <td>Indian Rupee</td>\n",
       "      <td>5540</td>\n",
       "      <td>Standard local currency units per USD</td>\n",
       "      <td>1970</td>\n",
       "      <td>1970</td>\n",
       "      <td>NaN</td>\n",
       "      <td>7.500000</td>\n",
       "      <td>X</td>\n",
       "      <td>International reliable sources</td>\n",
       "      <td>Data from UNSD AMA</td>\n",
       "    </tr>\n",
       "    <tr>\n",
       "      <th>1</th>\n",
       "      <td>PE</td>\n",
       "      <td>Exchange rates - Annual</td>\n",
       "      <td>165</td>\n",
       "      <td>Pakistan</td>\n",
       "      <td>PKR</td>\n",
       "      <td>Pakistan Rupee</td>\n",
       "      <td>5540</td>\n",
       "      <td>Standard local currency units per USD</td>\n",
       "      <td>1970</td>\n",
       "      <td>1970</td>\n",
       "      <td>NaN</td>\n",
       "      <td>4.761900</td>\n",
       "      <td>X</td>\n",
       "      <td>International reliable sources</td>\n",
       "      <td>Data from UNSD AMA</td>\n",
       "    </tr>\n",
       "    <tr>\n",
       "      <th>2</th>\n",
       "      <td>PE</td>\n",
       "      <td>Exchange rates - Annual</td>\n",
       "      <td>2</td>\n",
       "      <td>Afghanistan</td>\n",
       "      <td>AFN</td>\n",
       "      <td>Afghani</td>\n",
       "      <td>5540</td>\n",
       "      <td>Standard local currency units per USD</td>\n",
       "      <td>1970</td>\n",
       "      <td>1970</td>\n",
       "      <td>NaN</td>\n",
       "      <td>0.044998</td>\n",
       "      <td>X</td>\n",
       "      <td>International reliable sources</td>\n",
       "      <td>Data from UNSD AMA</td>\n",
       "    </tr>\n",
       "  </tbody>\n",
       "</table>\n",
       "</div>"
      ],
      "text/plain": [
       "  Domain Code                   Domain  Area Code         Area  \\\n",
       "0          PE  Exchange rates - Annual        100        India   \n",
       "1          PE  Exchange rates - Annual        165     Pakistan   \n",
       "2          PE  Exchange rates - Annual          2  Afghanistan   \n",
       "\n",
       "  ISO Currency Code        Currency  Item Code  \\\n",
       "0               INR    Indian Rupee       5540   \n",
       "1               PKR  Pakistan Rupee       5540   \n",
       "2               AFN         Afghani       5540   \n",
       "\n",
       "                                    Item  Year Code  Year  Unit     Value  \\\n",
       "0  Standard local currency units per USD       1970  1970   NaN  7.500000   \n",
       "1  Standard local currency units per USD       1970  1970   NaN  4.761900   \n",
       "2  Standard local currency units per USD       1970  1970   NaN  0.044998   \n",
       "\n",
       "  Flag                Flag Description                Note  \n",
       "0    X  International reliable sources  Data from UNSD AMA  \n",
       "1    X  International reliable sources  Data from UNSD AMA  \n",
       "2    X  International reliable sources  Data from UNSD AMA  "
      ]
     },
     "execution_count": 30,
     "metadata": {},
     "output_type": "execute_result"
    }
   ],
   "source": [
    "prices.head(3)"
   ]
  },
  {
   "cell_type": "code",
   "execution_count": 31,
   "metadata": {},
   "outputs": [
    {
     "data": {
      "text/plain": [
       "26.111881427392152"
      ]
     },
     "execution_count": 31,
     "metadata": {},
     "output_type": "execute_result"
    }
   ],
   "source": [
    "prices['Value'].mean()"
   ]
  },
  {
   "cell_type": "markdown",
   "metadata": {},
   "source": [
    "## Methods to deal with missing values\n",
    "- in a data missing values are either ? or N/A or 0 or blank cell.\n",
    "\n",
    "- Whenever data is not available in particular row or column.\n",
    "## Steps\n",
    "1. Try to collect data again\n",
    "2. Remove that particular column\n",
    "3. Replace the missing values\n",
    "    \n",
    "    "
   ]
  },
  {
   "cell_type": "markdown",
   "metadata": {},
   "source": [
    "A. How?\n",
    "\n",
    "- Average value of entire variable similar data point\n",
    "\n",
    "- Frequency or Mode replacement\n",
    "\n",
    "- replace based on other fuctions\n",
    "\n",
    "- ML algorithm can also be used\n",
    "\n",
    "- leave it like that\n",
    "\n",
    "B. Why?\n",
    "\n",
    "- its better bcz no data is lost\n",
    "        \n",
    "- less accurate"
   ]
  },
  {
   "cell_type": "code",
   "execution_count": 32,
   "metadata": {},
   "outputs": [
    {
     "data": {
      "text/plain": [
       "Domain Code            0\n",
       "Domain                 0\n",
       "Area Code              0\n",
       "Area                   0\n",
       "ISO Currency Code      0\n",
       "Currency               0\n",
       "Item Code              0\n",
       "Item                   0\n",
       "Year Code              0\n",
       "Year                   0\n",
       "Unit                 204\n",
       "Value                  0\n",
       "Flag                   0\n",
       "Flag Description       0\n",
       "Note                   0\n",
       "dtype: int64"
      ]
     },
     "execution_count": 32,
     "metadata": {},
     "output_type": "execute_result"
    }
   ],
   "source": [
    "# finding missing values\n",
    "prices.isnull().sum()"
   ]
  },
  {
   "cell_type": "code",
   "execution_count": 33,
   "metadata": {},
   "outputs": [
    {
     "data": {
      "text/html": [
       "<div>\n",
       "<style scoped>\n",
       "    .dataframe tbody tr th:only-of-type {\n",
       "        vertical-align: middle;\n",
       "    }\n",
       "\n",
       "    .dataframe tbody tr th {\n",
       "        vertical-align: top;\n",
       "    }\n",
       "\n",
       "    .dataframe thead th {\n",
       "        text-align: right;\n",
       "    }\n",
       "</style>\n",
       "<table border=\"1\" class=\"dataframe\">\n",
       "  <thead>\n",
       "    <tr style=\"text-align: right;\">\n",
       "      <th></th>\n",
       "      <th>Domain Code</th>\n",
       "      <th>Domain</th>\n",
       "      <th>Area Code</th>\n",
       "      <th>Area</th>\n",
       "      <th>ISO Currency Code</th>\n",
       "      <th>Currency</th>\n",
       "      <th>Item Code</th>\n",
       "      <th>Item</th>\n",
       "      <th>Year Code</th>\n",
       "      <th>Year</th>\n",
       "      <th>Value</th>\n",
       "      <th>Flag</th>\n",
       "      <th>Flag Description</th>\n",
       "      <th>Note</th>\n",
       "    </tr>\n",
       "  </thead>\n",
       "  <tbody>\n",
       "    <tr>\n",
       "      <th>0</th>\n",
       "      <td>PE</td>\n",
       "      <td>Exchange rates - Annual</td>\n",
       "      <td>100</td>\n",
       "      <td>India</td>\n",
       "      <td>INR</td>\n",
       "      <td>Indian Rupee</td>\n",
       "      <td>5540</td>\n",
       "      <td>Standard local currency units per USD</td>\n",
       "      <td>1970</td>\n",
       "      <td>1970</td>\n",
       "      <td>7.5000</td>\n",
       "      <td>X</td>\n",
       "      <td>International reliable sources</td>\n",
       "      <td>Data from UNSD AMA</td>\n",
       "    </tr>\n",
       "    <tr>\n",
       "      <th>1</th>\n",
       "      <td>PE</td>\n",
       "      <td>Exchange rates - Annual</td>\n",
       "      <td>165</td>\n",
       "      <td>Pakistan</td>\n",
       "      <td>PKR</td>\n",
       "      <td>Pakistan Rupee</td>\n",
       "      <td>5540</td>\n",
       "      <td>Standard local currency units per USD</td>\n",
       "      <td>1970</td>\n",
       "      <td>1970</td>\n",
       "      <td>4.7619</td>\n",
       "      <td>X</td>\n",
       "      <td>International reliable sources</td>\n",
       "      <td>Data from UNSD AMA</td>\n",
       "    </tr>\n",
       "  </tbody>\n",
       "</table>\n",
       "</div>"
      ],
      "text/plain": [
       "  Domain Code                   Domain  Area Code      Area ISO Currency Code  \\\n",
       "0          PE  Exchange rates - Annual        100     India               INR   \n",
       "1          PE  Exchange rates - Annual        165  Pakistan               PKR   \n",
       "\n",
       "         Currency  Item Code                                   Item  \\\n",
       "0    Indian Rupee       5540  Standard local currency units per USD   \n",
       "1  Pakistan Rupee       5540  Standard local currency units per USD   \n",
       "\n",
       "   Year Code  Year   Value Flag                Flag Description  \\\n",
       "0       1970  1970  7.5000    X  International reliable sources   \n",
       "1       1970  1970  4.7619    X  International reliable sources   \n",
       "\n",
       "                 Note  \n",
       "0  Data from UNSD AMA  \n",
       "1  Data from UNSD AMA  "
      ]
     },
     "execution_count": 33,
     "metadata": {},
     "output_type": "execute_result"
    }
   ],
   "source": [
    "# removing missing value column\n",
    "prices_clean=prices.drop(['Unit'], axis=1)\n",
    "prices_clean.head(2)"
   ]
  },
  {
   "cell_type": "code",
   "execution_count": 34,
   "metadata": {},
   "outputs": [
    {
     "data": {
      "text/plain": [
       "Domain Code          0\n",
       "Domain               0\n",
       "Area Code            0\n",
       "Area                 0\n",
       "ISO Currency Code    0\n",
       "Currency             0\n",
       "Item Code            0\n",
       "Item                 0\n",
       "Year Code            0\n",
       "Year                 0\n",
       "Value                0\n",
       "Flag                 0\n",
       "Flag Description     0\n",
       "Note                 0\n",
       "dtype: int64"
      ]
     },
     "execution_count": 34,
     "metadata": {},
     "output_type": "execute_result"
    }
   ],
   "source": [
    "# Again check missing values\n",
    "prices_clean.isnull().sum()"
   ]
  },
  {
   "cell_type": "markdown",
   "metadata": {},
   "source": [
    "# Data formating"
   ]
  },
  {
   "cell_type": "markdown",
   "metadata": {},
   "source": [
    "- bring dat to a common standard.\n",
    "- Ensure data is consistant and understandable\n",
    "    - Easy to gather\n",
    "    - Easy to work with\n",
    "    - e.g Faisalabad(FSD)\n",
    "    - Convert g to kg or similar unit for all\n",
    "    - One standard unit for each column\n",
    "    - ft!=cm"
   ]
  },
  {
   "cell_type": "code",
   "execution_count": 35,
   "metadata": {},
   "outputs": [
    {
     "data": {
      "text/plain": [
       "Domain Code           object\n",
       "Domain                object\n",
       "Area Code              int64\n",
       "Area                  object\n",
       "ISO Currency Code     object\n",
       "Currency              object\n",
       "Item Code              int64\n",
       "Item                  object\n",
       "Year Code              int64\n",
       "Year                   int64\n",
       "Unit                 float64\n",
       "Value                float64\n",
       "Flag                  object\n",
       "Flag Description      object\n",
       "Note                  object\n",
       "dtype: object"
      ]
     },
     "execution_count": 35,
     "metadata": {},
     "output_type": "execute_result"
    }
   ],
   "source": [
    "pr.dtypes"
   ]
  },
  {
   "cell_type": "code",
   "execution_count": 36,
   "metadata": {},
   "outputs": [
    {
     "data": {
      "text/html": [
       "<div>\n",
       "<style scoped>\n",
       "    .dataframe tbody tr th:only-of-type {\n",
       "        vertical-align: middle;\n",
       "    }\n",
       "\n",
       "    .dataframe tbody tr th {\n",
       "        vertical-align: top;\n",
       "    }\n",
       "\n",
       "    .dataframe thead th {\n",
       "        text-align: right;\n",
       "    }\n",
       "</style>\n",
       "<table border=\"1\" class=\"dataframe\">\n",
       "  <thead>\n",
       "    <tr style=\"text-align: right;\">\n",
       "      <th></th>\n",
       "      <th>Domain Code</th>\n",
       "      <th>Domain</th>\n",
       "      <th>Area Code rename</th>\n",
       "      <th>Area</th>\n",
       "      <th>ISO Currency Code</th>\n",
       "      <th>Currency</th>\n",
       "      <th>Item Code</th>\n",
       "      <th>Item</th>\n",
       "      <th>Year Code</th>\n",
       "      <th>Year</th>\n",
       "      <th>Unit</th>\n",
       "      <th>Value</th>\n",
       "      <th>Flag</th>\n",
       "      <th>Flag Description</th>\n",
       "      <th>Note</th>\n",
       "    </tr>\n",
       "  </thead>\n",
       "  <tbody>\n",
       "    <tr>\n",
       "      <th>0</th>\n",
       "      <td>PE</td>\n",
       "      <td>Exchange rates - Annual</td>\n",
       "      <td>100</td>\n",
       "      <td>India</td>\n",
       "      <td>INR</td>\n",
       "      <td>Indian Rupee</td>\n",
       "      <td>5540</td>\n",
       "      <td>Standard local currency units per USD</td>\n",
       "      <td>1970</td>\n",
       "      <td>1970</td>\n",
       "      <td>NaN</td>\n",
       "      <td>7.500000</td>\n",
       "      <td>X</td>\n",
       "      <td>International reliable sources</td>\n",
       "      <td>Data from UNSD AMA</td>\n",
       "    </tr>\n",
       "    <tr>\n",
       "      <th>1</th>\n",
       "      <td>PE</td>\n",
       "      <td>Exchange rates - Annual</td>\n",
       "      <td>165</td>\n",
       "      <td>Pakistan</td>\n",
       "      <td>PKR</td>\n",
       "      <td>Pakistan Rupee</td>\n",
       "      <td>5540</td>\n",
       "      <td>Standard local currency units per USD</td>\n",
       "      <td>1970</td>\n",
       "      <td>1970</td>\n",
       "      <td>NaN</td>\n",
       "      <td>4.761900</td>\n",
       "      <td>X</td>\n",
       "      <td>International reliable sources</td>\n",
       "      <td>Data from UNSD AMA</td>\n",
       "    </tr>\n",
       "    <tr>\n",
       "      <th>2</th>\n",
       "      <td>PE</td>\n",
       "      <td>Exchange rates - Annual</td>\n",
       "      <td>2</td>\n",
       "      <td>Afghanistan</td>\n",
       "      <td>AFN</td>\n",
       "      <td>Afghani</td>\n",
       "      <td>5540</td>\n",
       "      <td>Standard local currency units per USD</td>\n",
       "      <td>1970</td>\n",
       "      <td>1970</td>\n",
       "      <td>NaN</td>\n",
       "      <td>0.044998</td>\n",
       "      <td>X</td>\n",
       "      <td>International reliable sources</td>\n",
       "      <td>Data from UNSD AMA</td>\n",
       "    </tr>\n",
       "    <tr>\n",
       "      <th>3</th>\n",
       "      <td>PE</td>\n",
       "      <td>Exchange rates - Annual</td>\n",
       "      <td>79</td>\n",
       "      <td>Germany</td>\n",
       "      <td>EUR</td>\n",
       "      <td>Euro</td>\n",
       "      <td>5540</td>\n",
       "      <td>Standard local currency units per USD</td>\n",
       "      <td>1970</td>\n",
       "      <td>1970</td>\n",
       "      <td>NaN</td>\n",
       "      <td>1.871328</td>\n",
       "      <td>X</td>\n",
       "      <td>International reliable sources</td>\n",
       "      <td>Data from UNSD AMA</td>\n",
       "    </tr>\n",
       "    <tr>\n",
       "      <th>4</th>\n",
       "      <td>PE</td>\n",
       "      <td>Exchange rates - Annual</td>\n",
       "      <td>79</td>\n",
       "      <td>Germany</td>\n",
       "      <td>EUR</td>\n",
       "      <td>Euro</td>\n",
       "      <td>5540</td>\n",
       "      <td>Standard local currency units per USD</td>\n",
       "      <td>1971</td>\n",
       "      <td>1971</td>\n",
       "      <td>NaN</td>\n",
       "      <td>1.793302</td>\n",
       "      <td>X</td>\n",
       "      <td>International reliable sources</td>\n",
       "      <td>Data from UNSD AMA</td>\n",
       "    </tr>\n",
       "  </tbody>\n",
       "</table>\n",
       "</div>"
      ],
      "text/plain": [
       "  Domain Code                   Domain  Area Code rename         Area  \\\n",
       "0          PE  Exchange rates - Annual               100        India   \n",
       "1          PE  Exchange rates - Annual               165     Pakistan   \n",
       "2          PE  Exchange rates - Annual                 2  Afghanistan   \n",
       "3          PE  Exchange rates - Annual                79      Germany   \n",
       "4          PE  Exchange rates - Annual                79      Germany   \n",
       "\n",
       "  ISO Currency Code        Currency  Item Code  \\\n",
       "0               INR    Indian Rupee       5540   \n",
       "1               PKR  Pakistan Rupee       5540   \n",
       "2               AFN         Afghani       5540   \n",
       "3               EUR            Euro       5540   \n",
       "4               EUR            Euro       5540   \n",
       "\n",
       "                                    Item  Year Code  Year  Unit     Value  \\\n",
       "0  Standard local currency units per USD       1970  1970   NaN  7.500000   \n",
       "1  Standard local currency units per USD       1970  1970   NaN  4.761900   \n",
       "2  Standard local currency units per USD       1970  1970   NaN  0.044998   \n",
       "3  Standard local currency units per USD       1970  1970   NaN  1.871328   \n",
       "4  Standard local currency units per USD       1971  1971   NaN  1.793302   \n",
       "\n",
       "  Flag                Flag Description                Note  \n",
       "0    X  International reliable sources  Data from UNSD AMA  \n",
       "1    X  International reliable sources  Data from UNSD AMA  \n",
       "2    X  International reliable sources  Data from UNSD AMA  \n",
       "3    X  International reliable sources  Data from UNSD AMA  \n",
       "4    X  International reliable sources  Data from UNSD AMA  "
      ]
     },
     "execution_count": 36,
     "metadata": {},
     "output_type": "execute_result"
    }
   ],
   "source": [
    "# rename column\n",
    "pr.rename(columns={\"Area Code\": \"Area Code rename\"}, inplace=True)\n",
    "pr.head()"
   ]
  },
  {
   "cell_type": "markdown",
   "metadata": {},
   "source": [
    "# Data Normalization\n",
    "- Uniform the data\n",
    "- Making sure they have same impact\n",
    "- zero to one range\n",
    "- Also for computational reasons"
   ]
  },
  {
   "cell_type": "code",
   "execution_count": 37,
   "metadata": {},
   "outputs": [
    {
     "data": {
      "text/html": [
       "<div>\n",
       "<style scoped>\n",
       "    .dataframe tbody tr th:only-of-type {\n",
       "        vertical-align: middle;\n",
       "    }\n",
       "\n",
       "    .dataframe tbody tr th {\n",
       "        vertical-align: top;\n",
       "    }\n",
       "\n",
       "    .dataframe thead th {\n",
       "        text-align: right;\n",
       "    }\n",
       "</style>\n",
       "<table border=\"1\" class=\"dataframe\">\n",
       "  <thead>\n",
       "    <tr style=\"text-align: right;\">\n",
       "      <th></th>\n",
       "      <th>Year</th>\n",
       "      <th>Value</th>\n",
       "    </tr>\n",
       "  </thead>\n",
       "  <tbody>\n",
       "    <tr>\n",
       "      <th>0</th>\n",
       "      <td>1970</td>\n",
       "      <td>7.500000</td>\n",
       "    </tr>\n",
       "    <tr>\n",
       "      <th>1</th>\n",
       "      <td>1970</td>\n",
       "      <td>4.761900</td>\n",
       "    </tr>\n",
       "    <tr>\n",
       "      <th>2</th>\n",
       "      <td>1970</td>\n",
       "      <td>0.044998</td>\n",
       "    </tr>\n",
       "    <tr>\n",
       "      <th>3</th>\n",
       "      <td>1970</td>\n",
       "      <td>1.871328</td>\n",
       "    </tr>\n",
       "    <tr>\n",
       "      <th>4</th>\n",
       "      <td>1971</td>\n",
       "      <td>1.793302</td>\n",
       "    </tr>\n",
       "  </tbody>\n",
       "</table>\n",
       "</div>"
      ],
      "text/plain": [
       "   Year     Value\n",
       "0  1970  7.500000\n",
       "1  1970  4.761900\n",
       "2  1970  0.044998\n",
       "3  1970  1.871328\n",
       "4  1971  1.793302"
      ]
     },
     "execution_count": 37,
     "metadata": {},
     "output_type": "execute_result"
    }
   ],
   "source": [
    "# show only two column\n",
    "pr= pr[[\"Year\", \"Value\"]]\n",
    "pr.head(5)"
   ]
  },
  {
   "cell_type": "markdown",
   "metadata": {},
   "source": [
    "- the data which is really in wide range. we need to normalize and hard to compare.\n",
    "\n",
    "- normalization change bthe valuesto the range of 0-to-1(now both variables have similar influence on our models)\n",
    "\n",
    "# Method of normalization\n",
    "- Simple feaured scaling\n",
    "- x(new)= x(old)/x(max)\n",
    "- Min-Max method\n",
    "- Z-score(standard score) -3 to +3\n",
    "- Log tranformation\n",
    "we will use log transformation method here."
   ]
  },
  {
   "cell_type": "code",
   "execution_count": 38,
   "metadata": {},
   "outputs": [
    {
     "name": "stderr",
     "output_type": "stream",
     "text": [
      "C:\\Users\\m s\\AppData\\Local\\Temp\\ipykernel_9768\\1549460086.py:1: SettingWithCopyWarning: \n",
      "A value is trying to be set on a copy of a slice from a DataFrame.\n",
      "Try using .loc[row_indexer,col_indexer] = value instead\n",
      "\n",
      "See the caveats in the documentation: https://pandas.pydata.org/pandas-docs/stable/user_guide/indexing.html#returning-a-view-versus-a-copy\n",
      "  pr['Value']=np.log(pr['Value'])\n"
     ]
    },
    {
     "data": {
      "text/html": [
       "<div>\n",
       "<style scoped>\n",
       "    .dataframe tbody tr th:only-of-type {\n",
       "        vertical-align: middle;\n",
       "    }\n",
       "\n",
       "    .dataframe tbody tr th {\n",
       "        vertical-align: top;\n",
       "    }\n",
       "\n",
       "    .dataframe thead th {\n",
       "        text-align: right;\n",
       "    }\n",
       "</style>\n",
       "<table border=\"1\" class=\"dataframe\">\n",
       "  <thead>\n",
       "    <tr style=\"text-align: right;\">\n",
       "      <th></th>\n",
       "      <th>Year</th>\n",
       "      <th>Value</th>\n",
       "    </tr>\n",
       "  </thead>\n",
       "  <tbody>\n",
       "    <tr>\n",
       "      <th>0</th>\n",
       "      <td>1970</td>\n",
       "      <td>2.014903</td>\n",
       "    </tr>\n",
       "    <tr>\n",
       "      <th>1</th>\n",
       "      <td>1970</td>\n",
       "      <td>1.560647</td>\n",
       "    </tr>\n",
       "    <tr>\n",
       "      <th>2</th>\n",
       "      <td>1970</td>\n",
       "      <td>-3.101128</td>\n",
       "    </tr>\n",
       "    <tr>\n",
       "      <th>3</th>\n",
       "      <td>1970</td>\n",
       "      <td>0.626648</td>\n",
       "    </tr>\n",
       "    <tr>\n",
       "      <th>4</th>\n",
       "      <td>1971</td>\n",
       "      <td>0.584059</td>\n",
       "    </tr>\n",
       "  </tbody>\n",
       "</table>\n",
       "</div>"
      ],
      "text/plain": [
       "   Year     Value\n",
       "0  1970  2.014903\n",
       "1  1970  1.560647\n",
       "2  1970 -3.101128\n",
       "3  1970  0.626648\n",
       "4  1971  0.584059"
      ]
     },
     "execution_count": 38,
     "metadata": {},
     "output_type": "execute_result"
    }
   ],
   "source": [
    "pr['Value']=np.log(pr['Value'])\n",
    "pr.head()"
   ]
  },
  {
   "cell_type": "markdown",
   "metadata": {},
   "source": [
    "# Binning\n",
    "- Grouping of values into smaller number of values(bins)\n",
    "- convert numaric into categories(jawan, bachy, boorhy) or1-16,17-30 etc.\n",
    "- to have better understanding of groups\n",
    "- low vs mid vs high price"
   ]
  },
  {
   "cell_type": "code",
   "execution_count": 40,
   "metadata": {},
   "outputs": [
    {
     "name": "stderr",
     "output_type": "stream",
     "text": [
      "C:\\Users\\m s\\AppData\\Local\\Temp\\ipykernel_9768\\3110518096.py:3: SettingWithCopyWarning: \n",
      "A value is trying to be set on a copy of a slice from a DataFrame.\n",
      "Try using .loc[row_indexer,col_indexer] = value instead\n",
      "\n",
      "See the caveats in the documentation: https://pandas.pydata.org/pandas-docs/stable/user_guide/indexing.html#returning-a-view-versus-a-copy\n",
      "  pr['Year']= pd.cut(pr['Year'], bins=[1970,1990,2010,2020], labels= Year_groups, include_lowest= True)\n"
     ]
    },
    {
     "data": {
      "text/plain": [
       "0      ancient times\n",
       "1      ancient times\n",
       "2      ancient times\n",
       "3      ancient times\n",
       "4      ancient times\n",
       "           ...      \n",
       "199       golden era\n",
       "200       golden era\n",
       "201       golden era\n",
       "202       golden era\n",
       "203       golden era\n",
       "Name: Year, Length: 204, dtype: category\n",
       "Categories (3, object): ['ancient times' < 'middle era' < 'golden era']"
      ]
     },
     "execution_count": 40,
     "metadata": {},
     "output_type": "execute_result"
    }
   ],
   "source": [
    "bins= np.linspace(min(pr['Year']), max(pr['Year']), 15000)\n",
    "Year_groups= [\"ancient times\",\"middle era\", \"golden era\"]\n",
    "pr['Year']= pd.cut(pr['Year'], bins=[1970,1990,2010,2020], labels= Year_groups, include_lowest= True)\n",
    "pr['Year']"
   ]
  },
  {
   "cell_type": "markdown",
   "metadata": {},
   "source": [
    "# Converting categories into dumies\n",
    "- easy to use for computation\n",
    "- male female(0, 1)\n",
    "- can be done on only two type of categoical variable such as male/female or true/false etc"
   ]
  },
  {
   "cell_type": "code",
   "execution_count": null,
   "metadata": {},
   "outputs": [],
   "source": [
    "# to get dummy value\n",
    "#pd.get_dummies(pr['any name from data frame']).head()"
   ]
  },
  {
   "cell_type": "code",
   "execution_count": null,
   "metadata": {},
   "outputs": [],
   "source": [
    "# to append dummy value into data frame\n",
    "#pd.get_dummies(pr, columns=['any name from data frame']).head()"
   ]
  }
 ],
 "metadata": {
  "kernelspec": {
   "display_name": "Python 3.10.4 64-bit",
   "language": "python",
   "name": "python3"
  },
  "language_info": {
   "codemirror_mode": {
    "name": "ipython",
    "version": 3
   },
   "file_extension": ".py",
   "mimetype": "text/x-python",
   "name": "python",
   "nbconvert_exporter": "python",
   "pygments_lexer": "ipython3",
   "version": "3.10.4"
  },
  "orig_nbformat": 4,
  "vscode": {
   "interpreter": {
    "hash": "22cfedf3a239e21440d01a63f5b82d243c8ab54206b6cca29154db81fbe179a1"
   }
  }
 },
 "nbformat": 4,
 "nbformat_minor": 2
}
